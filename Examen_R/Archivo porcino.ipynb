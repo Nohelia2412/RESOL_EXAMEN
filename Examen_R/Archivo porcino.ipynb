{
 "cells": [
  {
   "cell_type": "code",
   "execution_count": 1,
   "id": "9e52a8e9",
   "metadata": {},
   "outputs": [],
   "source": [
    "import pandas as pd"
   ]
  },
  {
   "cell_type": "code",
   "execution_count": 2,
   "id": "c0196ed1",
   "metadata": {
    "scrolled": true
   },
   "outputs": [
    {
     "data": {
      "text/html": [
       "<div>\n",
       "<style scoped>\n",
       "    .dataframe tbody tr th:only-of-type {\n",
       "        vertical-align: middle;\n",
       "    }\n",
       "\n",
       "    .dataframe tbody tr th {\n",
       "        vertical-align: top;\n",
       "    }\n",
       "\n",
       "    .dataframe thead th {\n",
       "        text-align: right;\n",
       "    }\n",
       "</style>\n",
       "<table border=\"1\" class=\"dataframe\">\n",
       "  <thead>\n",
       "    <tr style=\"text-align: right;\">\n",
       "      <th></th>\n",
       "      <th>ID</th>\n",
       "      <th>Espesor Lomo\\n  (m.m)</th>\n",
       "      <th>Porcentaje Magro\\n CM (%)</th>\n",
       "      <th>Sexo</th>\n",
       "      <th>Region</th>\n",
       "      <th>Calidad de la carne</th>\n",
       "      <th>Peso Canal Caliente \\n (PCC- Kg)</th>\n",
       "      <th>Peso Canal Refrigerada (PCR - Kg)</th>\n",
       "    </tr>\n",
       "  </thead>\n",
       "  <tbody>\n",
       "    <tr>\n",
       "      <th>0</th>\n",
       "      <td>NaN</td>\n",
       "      <td>NaN</td>\n",
       "      <td>NaN</td>\n",
       "      <td>NaN</td>\n",
       "      <td>NaN</td>\n",
       "      <td>NaN</td>\n",
       "      <td>NaN</td>\n",
       "      <td>NaN</td>\n",
       "    </tr>\n",
       "    <tr>\n",
       "      <th>1</th>\n",
       "      <td>1.0</td>\n",
       "      <td>64.4</td>\n",
       "      <td>55.8</td>\n",
       "      <td>MACHO</td>\n",
       "      <td>O´Higgins</td>\n",
       "      <td>Execelente</td>\n",
       "      <td>85.9</td>\n",
       "      <td>84.3</td>\n",
       "    </tr>\n",
       "    <tr>\n",
       "      <th>2</th>\n",
       "      <td>2.0</td>\n",
       "      <td>64.0</td>\n",
       "      <td>57.9</td>\n",
       "      <td>MACHO</td>\n",
       "      <td>Araucania</td>\n",
       "      <td>Execelente</td>\n",
       "      <td>80.4</td>\n",
       "      <td>78.5</td>\n",
       "    </tr>\n",
       "    <tr>\n",
       "      <th>3</th>\n",
       "      <td>3.0</td>\n",
       "      <td>56.4</td>\n",
       "      <td>58.8</td>\n",
       "      <td>MACHO</td>\n",
       "      <td>Metropolitana</td>\n",
       "      <td>Execelente</td>\n",
       "      <td>81.7</td>\n",
       "      <td>79.6</td>\n",
       "    </tr>\n",
       "    <tr>\n",
       "      <th>4</th>\n",
       "      <td>4.0</td>\n",
       "      <td>69.2</td>\n",
       "      <td>54.6</td>\n",
       "      <td>MACHO</td>\n",
       "      <td>Metropolitana</td>\n",
       "      <td>Estandar</td>\n",
       "      <td>88.6</td>\n",
       "      <td>86.8</td>\n",
       "    </tr>\n",
       "  </tbody>\n",
       "</table>\n",
       "</div>"
      ],
      "text/plain": [
       "    ID  Espesor Lomo\\n  (m.m)  Porcentaje Magro\\n CM (%)   Sexo  \\\n",
       "0  NaN                    NaN                        NaN    NaN   \n",
       "1  1.0                   64.4                       55.8  MACHO   \n",
       "2  2.0                   64.0                       57.9  MACHO   \n",
       "3  3.0                   56.4                       58.8  MACHO   \n",
       "4  4.0                   69.2                       54.6  MACHO   \n",
       "\n",
       "          Region Calidad de la carne  Peso Canal Caliente \\n (PCC- Kg)  \\\n",
       "0            NaN                 NaN                               NaN   \n",
       "1      O´Higgins          Execelente                              85.9   \n",
       "2      Araucania          Execelente                              80.4   \n",
       "3  Metropolitana          Execelente                              81.7   \n",
       "4  Metropolitana            Estandar                              88.6   \n",
       "\n",
       "   Peso Canal Refrigerada (PCR - Kg)  \n",
       "0                                NaN  \n",
       "1                               84.3  \n",
       "2                               78.5  \n",
       "3                               79.6  \n",
       "4                               86.8  "
      ]
     },
     "execution_count": 2,
     "metadata": {},
     "output_type": "execute_result"
    }
   ],
   "source": [
    "porcino = pd.read_excel('porcino.xlsx')\n",
    "porcino.head()\n"
   ]
  },
  {
   "cell_type": "code",
   "execution_count": 6,
   "id": "50a3e8c7",
   "metadata": {},
   "outputs": [
    {
     "data": {
      "text/plain": [
       "(230, 8)"
      ]
     },
     "execution_count": 6,
     "metadata": {},
     "output_type": "execute_result"
    }
   ],
   "source": [
    "p = porcino[(porcino['Calidad de la carne']=='Estandar')]\n",
    "p.shape"
   ]
  },
  {
   "cell_type": "code",
   "execution_count": 5,
   "id": "7ddeec2c",
   "metadata": {},
   "outputs": [
    {
     "data": {
      "text/plain": [
       "(4, 8)"
      ]
     },
     "execution_count": 5,
     "metadata": {},
     "output_type": "execute_result"
    }
   ],
   "source": [
    "mej_buen = porcino[(porcino['Sexo']=='HEMBRA')& (porcino['Calidad de la carne']=='Buena')]\n",
    "mej_buen.shape"
   ]
  },
  {
   "cell_type": "code",
   "execution_count": 7,
   "id": "80690288",
   "metadata": {},
   "outputs": [
    {
     "data": {
      "text/plain": [
       "ID                                   1\n",
       "Espesor Lomo\\n  (m.m)                1\n",
       "Porcentaje Magro\\n CM (%)            1\n",
       "Sexo                                 1\n",
       "Region                               1\n",
       "Calidad de la carne                  1\n",
       "Peso Canal Caliente \\n (PCC- Kg)     1\n",
       "Peso Canal Refrigerada (PCR - Kg)    1\n",
       "dtype: int64"
      ]
     },
     "execution_count": 7,
     "metadata": {},
     "output_type": "execute_result"
    }
   ],
   "source": [
    "porcino.isnull().sum()"
   ]
  },
  {
   "cell_type": "code",
   "execution_count": 8,
   "id": "80174277",
   "metadata": {},
   "outputs": [
    {
     "data": {
      "text/plain": [
       "(27, 8)"
      ]
     },
     "execution_count": 8,
     "metadata": {},
     "output_type": "execute_result"
    }
   ],
   "source": [
    "me = porcino[(porcino['Sexo']=='HEMBRA')& (porcino['Calidad de la carne']=='Estandar')]\n",
    "me.shape"
   ]
  },
  {
   "cell_type": "code",
   "execution_count": 9,
   "id": "4c396b1f",
   "metadata": {},
   "outputs": [
    {
     "data": {
      "text/plain": [
       "(3, 8)"
      ]
     },
     "execution_count": 9,
     "metadata": {},
     "output_type": "execute_result"
    }
   ],
   "source": [
    "porc = porcino[(porcino['Sexo']=='HEMBRA')& (porcino['Region']=='Maule')]\n",
    "porc.shape"
   ]
  },
  {
   "cell_type": "code",
   "execution_count": 11,
   "id": "bbfff909",
   "metadata": {},
   "outputs": [
    {
     "data": {
      "text/plain": [
       "(4, 8)"
      ]
     },
     "execution_count": 11,
     "metadata": {},
     "output_type": "execute_result"
    }
   ],
   "source": [
    "metro = porcino[(porcino['Sexo']=='HEMBRA')& (porcino['Region']=='Metropolitana')]\n",
    "metro.shape"
   ]
  },
  {
   "cell_type": "code",
   "execution_count": 12,
   "id": "9cb4b3c8",
   "metadata": {},
   "outputs": [
    {
     "data": {
      "text/plain": [
       "(15, 8)"
      ]
     },
     "execution_count": 12,
     "metadata": {},
     "output_type": "execute_result"
    }
   ],
   "source": [
    "val = porcino[(porcino['Sexo']=='MACHO')& (porcino['Region']=='Valparaiso')]\n",
    "val.shape"
   ]
  },
  {
   "cell_type": "code",
   "execution_count": 13,
   "id": "8b64b0f4",
   "metadata": {},
   "outputs": [
    {
     "data": {
      "text/plain": [
       "(203, 8)"
      ]
     },
     "execution_count": 13,
     "metadata": {},
     "output_type": "execute_result"
    }
   ],
   "source": [
    "est = porcino[(porcino['Sexo']=='MACHO')& (porcino['Calidad de la carne']=='Estandar')]\n",
    "est.shape"
   ]
  },
  {
   "cell_type": "code",
   "execution_count": 14,
   "id": "d7e03db0",
   "metadata": {},
   "outputs": [
    {
     "data": {
      "text/plain": [
       "(308, 8)"
      ]
     },
     "execution_count": 14,
     "metadata": {},
     "output_type": "execute_result"
    }
   ],
   "source": [
    "p = porcino[(porcino['Sexo']=='MACHO')& (porcino['Region']=='O´Higgins')]\n",
    "p.shape"
   ]
  },
  {
   "cell_type": "code",
   "execution_count": 16,
   "id": "d8fdabbb",
   "metadata": {},
   "outputs": [
    {
     "data": {
      "text/plain": [
       "(379, 8)"
      ]
     },
     "execution_count": 16,
     "metadata": {},
     "output_type": "execute_result"
    }
   ],
   "source": [
    "p = porcino[(porcino['Sexo']=='MACHO')]\n",
    "p.shape"
   ]
  },
  {
   "cell_type": "code",
   "execution_count": 17,
   "id": "dd5176b3",
   "metadata": {},
   "outputs": [
    {
     "data": {
      "text/plain": [
       "(106, 8)"
      ]
     },
     "execution_count": 17,
     "metadata": {},
     "output_type": "execute_result"
    }
   ],
   "source": [
    "p = porcino[(porcino['Sexo']=='HEMBRA')& (porcino['Region']=='O´Higgins')]\n",
    "p.shape"
   ]
  },
  {
   "cell_type": "code",
   "execution_count": null,
   "id": "991e5ac6",
   "metadata": {},
   "outputs": [],
   "source": []
  }
 ],
 "metadata": {
  "kernelspec": {
   "display_name": "Python 3 (ipykernel)",
   "language": "python",
   "name": "python3"
  },
  "language_info": {
   "codemirror_mode": {
    "name": "ipython",
    "version": 3
   },
   "file_extension": ".py",
   "mimetype": "text/x-python",
   "name": "python",
   "nbconvert_exporter": "python",
   "pygments_lexer": "ipython3",
   "version": "3.8.16"
  }
 },
 "nbformat": 4,
 "nbformat_minor": 5
}
